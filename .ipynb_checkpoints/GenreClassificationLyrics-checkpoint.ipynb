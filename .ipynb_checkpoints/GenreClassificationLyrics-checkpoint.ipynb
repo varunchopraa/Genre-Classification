{
 "cells": [
  {
   "cell_type": "markdown",
   "metadata": {},
   "source": [
    "### Importing Libraries"
   ]
  },
  {
   "cell_type": "code",
   "execution_count": 5,
   "metadata": {},
   "outputs": [],
   "source": [
    "import os\n",
    "import string\n",
    "import csv\n",
    "from nltk.corpus import stopwords\n",
    "from nltk.tokenize import word_tokenize\n",
    "from sklearn.utils import shuffle\n",
    "import numpy as np\n",
    "import matplotlib.pyplot as plt\n",
    "import pandas as pd\n",
    "from sklearn import preprocessing\n",
    "from nltk.stem.porter import PorterStemmer\n",
    "from nltk.stem import WordNetLemmatizer"
   ]
  },
  {
   "cell_type": "code",
   "execution_count": 6,
   "metadata": {
    "scrolled": true
   },
   "outputs": [
    {
     "name": "stderr",
     "output_type": "stream",
     "text": [
      "[nltk_data] Downloading package stopwords to /home/tarun/nltk_data...\n",
      "[nltk_data]   Package stopwords is already up-to-date!\n",
      "[nltk_data] Downloading package words to /home/tarun/nltk_data...\n",
      "[nltk_data]   Package words is already up-to-date!\n",
      "[nltk_data] Downloading package wordnet to /home/tarun/nltk_data...\n",
      "[nltk_data]   Package wordnet is already up-to-date!\n"
     ]
    },
    {
     "data": {
      "text/plain": [
       "True"
      ]
     },
     "execution_count": 6,
     "metadata": {},
     "output_type": "execute_result"
    }
   ],
   "source": [
    "import nltk\n",
    "nltk.download('stopwords')\n",
    "nltk.download('words')\n",
    "nltk.download('wordnet')"
   ]
  },
  {
   "cell_type": "markdown",
   "metadata": {},
   "source": [
    "<h3>Reading the input from lyrics file.</h3>"
   ]
  },
  {
   "cell_type": "code",
   "execution_count": 9,
   "metadata": {},
   "outputs": [
    {
     "name": "stdout",
     "output_type": "stream",
     "text": [
      "{'blues': 56, 'country': 86, 'disco': 45, 'hiphop': 93, 'metal': 83, 'pop': 58, 'reggae': 85, 'rock': 100}\n",
      "{'blues': 10001, 'country': 16912, 'disco': 11986, 'hiphop': 47914, 'metal': 19396, 'pop': 18786, 'reggae': 22948, 'rock': 22069}\n"
     ]
    }
   ],
   "source": [
    "stop_words = (stopwords.words('english'))\n",
    "newsw=['youve','youd','youll','shes','ive','hes','cant','never','dont','one','didnt']\n",
    "stop_words.extend(newsw)\n",
    "\n",
    "songCount = dict()\n",
    "wordCount = dict()\n",
    "\n",
    "header = ['word', 'frequency', 'genre']\n",
    "\n",
    "with open(f'Documents/genres2/freqDict.csv', 'w', newline = \"\") as file:\n",
    "    writer = csv.writer(file)\n",
    "    writer.writerow(header)\n",
    "\n",
    "# a list of all the present genres\n",
    "genresList = ['blues_lyrics', 'country_lyrics', 'disco_lyrics', 'hiphop_lyrics', 'metal_lyrics', 'pop_lyrics', 'reggae_lyrics', 'rock_lyrics']\n",
    "# genresList = ['blues_lyrics', 'disco_lyrics', 'hiphop_lyrics', 'pop_lyrics', 'reggae_lyrics']\n",
    "\n",
    "# iterating over the list of all the genres in the genreList\n",
    "for genreName in genresList:\n",
    "    \n",
    "    songCount[genreName.replace('_lyrics','')] = 0\n",
    "    \n",
    "    genreLyrics = ''\n",
    "    lyricStopped = list()\n",
    "    \n",
    "    # getting the path of the current genre\n",
    "    genre = os.listdir(f'Documents/genres2/{genreName}')\n",
    "    \n",
    "    # selecting each song from each genre\n",
    "    for song in genre:\n",
    "        path = f'Documents/genres2/{genreName}/{song}'\n",
    "        \n",
    "        if song == '.DS_Store':\n",
    "            continue\n",
    "            \n",
    "        # counting songs per genre    \n",
    "        songCount[genreName.replace('_lyrics','')] += 1\n",
    "        \n",
    "        # defining the path of a song lyrics file\n",
    "        songname = open(path, 'r')\n",
    "        \n",
    "        # read all the words in lower case\n",
    "        lyric = songname.read().lower()\n",
    "        \n",
    "        # removing punctuations\n",
    "        for punct in string.punctuation:\n",
    "            lyric = lyric.replace(punct, '')\n",
    "        \n",
    "        # adding lyrics to genreLyrics list\n",
    "        genreLyrics += lyric\n",
    "    \n",
    "    # extracting words from a particular genreLyrics\n",
    "    words = genreLyrics.split()\n",
    "    \n",
    "    # counting words per genre\n",
    "    wordCount[genreName.replace('_lyrics','')] = len(words)\n",
    "    \n",
    "    # removing numbers\n",
    "    words = [x for x in words if not (x.isdigit() or x[0] == '-' and x[1:].isdigit())]\n",
    "    \n",
    "    # lemmatized words\n",
    "    lmtzr = WordNetLemmatizer()\n",
    "    words = [lmtzr.lemmatize(x) for x in words]\n",
    "    \n",
    "    # removing the stopwords\n",
    "    for l in words:\n",
    "        if l not in stop_words:\n",
    "            lyricStopped.append(l)\n",
    "            \n",
    "    # stemming\n",
    "    porter = PorterStemmer()\n",
    "    lyricStopped = [porter.stem(word) for word in lyricStopped]\n",
    "    \n",
    "    # frequency dictionary\n",
    "    freqDict = {}\n",
    "    \n",
    "    # counting the occurence of all the words in the dictionary\n",
    "    # no need to make a set of UNIQUE WORDS as the \"keys\" of this dictionary will all be unique\n",
    "    for word in lyricStopped:\n",
    "        freqDict[word] = freqDict.get(word, 0) + 1\n",
    "        \n",
    "    # print the dictionary\n",
    "    with open(f'Documents/genres2/freqDict.csv', 'a', newline = \"\") as file:\n",
    "        writer = csv.writer(file)\n",
    "        for key, value in freqDict.items():\n",
    "            writer.writerow([key, value, genreName.replace('_lyrics','')])\n",
    "    \n",
    "    # For TF IDF: make a file containing all words in a genre (post-removing the stopwords    \n",
    "    with open(f'Documents/Genre words/{genreName}.csv', 'w', newline = \"\") as file:\n",
    "        writer = csv.writer(file)\n",
    "        writer.writerow(lyricStopped)\n",
    "    \n",
    "            \n",
    "print(songCount)\n",
    "print(wordCount)\n"
   ]
  },
  {
   "cell_type": "markdown",
   "metadata": {},
   "source": [
    "# TF-IDF"
   ]
  },
  {
   "cell_type": "markdown",
   "metadata": {},
   "source": [
    "### Term Frequency"
   ]
  },
  {
   "cell_type": "code",
   "execution_count": 10,
   "metadata": {},
   "outputs": [],
   "source": [
    "# wordDict = numOfWords[A]\n",
    "# bagOfWords = bagOfWords[A]\n",
    "\n",
    "def computeTF(wordDict, bagOfWords):\n",
    "    tfDict = {}\n",
    "    bagOfWordsCount = len(bagOfWords)\n",
    "    for word, count in wordDict.items():\n",
    "        tfDict[word] = count / float(bagOfWordsCount)\n",
    "    return tfDict"
   ]
  },
  {
   "cell_type": "markdown",
   "metadata": {},
   "source": [
    "### Inverse Data Frequency"
   ]
  },
  {
   "cell_type": "code",
   "execution_count": 11,
   "metadata": {},
   "outputs": [],
   "source": [
    "# documents is the list of NumOfWords: [numOfWordsA, numOfWordsB]\n",
    "\n",
    "def computeIDF(documents):\n",
    "    import math\n",
    "    N = len(documents)\n",
    "    \n",
    "    idfDict = dict.fromkeys(documents[0].keys(), 0)\n",
    "    for document in documents:\n",
    "        for word, val in document.items():\n",
    "            if val > 0:\n",
    "                idfDict[word] += 1\n",
    "    \n",
    "    for word, val in idfDict.items():\n",
    "        idfDict[word] = math.log(N / float(val) + 1)\n",
    "    return idfDict"
   ]
  },
  {
   "cell_type": "markdown",
   "metadata": {},
   "source": [
    "### TF IDF"
   ]
  },
  {
   "cell_type": "code",
   "execution_count": 12,
   "metadata": {},
   "outputs": [],
   "source": [
    "# tfBagOfWords = tfA\n",
    "# idfs = idfs\n",
    "\n",
    "def computeTFIDF(tfBagOfWords, idfs):\n",
    "    tfidf = {}\n",
    "    for word, val in tfBagOfWords.items():\n",
    "        tfidf[word] = val * idfs[word]\n",
    "    return tfidf"
   ]
  },
  {
   "cell_type": "code",
   "execution_count": 13,
   "metadata": {},
   "outputs": [
    {
     "data": {
      "text/html": [
       "<div>\n",
       "<style scoped>\n",
       "    .dataframe tbody tr th:only-of-type {\n",
       "        vertical-align: middle;\n",
       "    }\n",
       "\n",
       "    .dataframe tbody tr th {\n",
       "        vertical-align: top;\n",
       "    }\n",
       "\n",
       "    .dataframe thead th {\n",
       "        text-align: right;\n",
       "    }\n",
       "</style>\n",
       "<table border=\"1\" class=\"dataframe\">\n",
       "  <thead>\n",
       "    <tr style=\"text-align: right;\">\n",
       "      <th></th>\n",
       "      <th>unkind</th>\n",
       "      <th>bazooka</th>\n",
       "      <th>sssssssssssssss…n</th>\n",
       "      <th>halfway</th>\n",
       "      <th>scoobi</th>\n",
       "      <th>jail</th>\n",
       "      <th>yououou</th>\n",
       "      <th>rocwild</th>\n",
       "      <th>singin</th>\n",
       "      <th>papayapa</th>\n",
       "      <th>...</th>\n",
       "      <th>murder</th>\n",
       "      <th>injuri</th>\n",
       "      <th>honeybunni</th>\n",
       "      <th>bastard</th>\n",
       "      <th>stolen</th>\n",
       "      <th>bell</th>\n",
       "      <th>huhuhuhaa</th>\n",
       "      <th>fantas</th>\n",
       "      <th>stormin</th>\n",
       "      <th>rb</th>\n",
       "    </tr>\n",
       "  </thead>\n",
       "  <tbody>\n",
       "    <tr>\n",
       "      <th>0</th>\n",
       "      <td>0.000242</td>\n",
       "      <td>0.000299</td>\n",
       "      <td>0.000000</td>\n",
       "      <td>0.000409</td>\n",
       "      <td>0.000000</td>\n",
       "      <td>0.000409</td>\n",
       "      <td>0.000000</td>\n",
       "      <td>0.000000</td>\n",
       "      <td>0.000000</td>\n",
       "      <td>0.000000</td>\n",
       "      <td>...</td>\n",
       "      <td>0.000000</td>\n",
       "      <td>0.000000</td>\n",
       "      <td>0.000000</td>\n",
       "      <td>0.000000</td>\n",
       "      <td>0.000000</td>\n",
       "      <td>0.000356</td>\n",
       "      <td>0.000000</td>\n",
       "      <td>0.000000</td>\n",
       "      <td>0.000000</td>\n",
       "      <td>0.000000</td>\n",
       "    </tr>\n",
       "    <tr>\n",
       "      <th>1</th>\n",
       "      <td>0.000000</td>\n",
       "      <td>0.000000</td>\n",
       "      <td>0.000000</td>\n",
       "      <td>0.000000</td>\n",
       "      <td>0.000000</td>\n",
       "      <td>0.000132</td>\n",
       "      <td>0.000000</td>\n",
       "      <td>0.000000</td>\n",
       "      <td>0.000229</td>\n",
       "      <td>0.000000</td>\n",
       "      <td>...</td>\n",
       "      <td>0.000000</td>\n",
       "      <td>0.000000</td>\n",
       "      <td>0.000263</td>\n",
       "      <td>0.000000</td>\n",
       "      <td>0.000000</td>\n",
       "      <td>0.000000</td>\n",
       "      <td>0.000000</td>\n",
       "      <td>0.000000</td>\n",
       "      <td>0.000000</td>\n",
       "      <td>0.000000</td>\n",
       "    </tr>\n",
       "    <tr>\n",
       "      <th>2</th>\n",
       "      <td>0.000000</td>\n",
       "      <td>0.000000</td>\n",
       "      <td>0.000000</td>\n",
       "      <td>0.000000</td>\n",
       "      <td>0.000249</td>\n",
       "      <td>0.000000</td>\n",
       "      <td>0.000000</td>\n",
       "      <td>0.000000</td>\n",
       "      <td>0.000591</td>\n",
       "      <td>0.000000</td>\n",
       "      <td>...</td>\n",
       "      <td>0.000000</td>\n",
       "      <td>0.000000</td>\n",
       "      <td>0.000000</td>\n",
       "      <td>0.000000</td>\n",
       "      <td>0.000000</td>\n",
       "      <td>0.000148</td>\n",
       "      <td>0.000000</td>\n",
       "      <td>0.000000</td>\n",
       "      <td>0.000000</td>\n",
       "      <td>0.000000</td>\n",
       "    </tr>\n",
       "    <tr>\n",
       "      <th>3</th>\n",
       "      <td>0.000050</td>\n",
       "      <td>0.000062</td>\n",
       "      <td>0.000084</td>\n",
       "      <td>0.000000</td>\n",
       "      <td>0.000123</td>\n",
       "      <td>0.000168</td>\n",
       "      <td>0.000000</td>\n",
       "      <td>0.000000</td>\n",
       "      <td>0.000110</td>\n",
       "      <td>0.000000</td>\n",
       "      <td>...</td>\n",
       "      <td>0.000168</td>\n",
       "      <td>0.000084</td>\n",
       "      <td>0.000000</td>\n",
       "      <td>0.000062</td>\n",
       "      <td>0.000149</td>\n",
       "      <td>0.000330</td>\n",
       "      <td>0.000084</td>\n",
       "      <td>0.000000</td>\n",
       "      <td>0.000084</td>\n",
       "      <td>0.000185</td>\n",
       "    </tr>\n",
       "    <tr>\n",
       "      <th>4</th>\n",
       "      <td>0.000000</td>\n",
       "      <td>0.000000</td>\n",
       "      <td>0.000000</td>\n",
       "      <td>0.000000</td>\n",
       "      <td>0.000000</td>\n",
       "      <td>0.000000</td>\n",
       "      <td>0.000000</td>\n",
       "      <td>0.000000</td>\n",
       "      <td>0.000000</td>\n",
       "      <td>0.000000</td>\n",
       "      <td>...</td>\n",
       "      <td>0.000213</td>\n",
       "      <td>0.000000</td>\n",
       "      <td>0.000000</td>\n",
       "      <td>0.000312</td>\n",
       "      <td>0.000378</td>\n",
       "      <td>0.000926</td>\n",
       "      <td>0.000000</td>\n",
       "      <td>0.000000</td>\n",
       "      <td>0.000000</td>\n",
       "      <td>0.000000</td>\n",
       "    </tr>\n",
       "    <tr>\n",
       "      <th>5</th>\n",
       "      <td>0.000136</td>\n",
       "      <td>0.000000</td>\n",
       "      <td>0.000000</td>\n",
       "      <td>0.000000</td>\n",
       "      <td>0.000000</td>\n",
       "      <td>0.000000</td>\n",
       "      <td>0.000000</td>\n",
       "      <td>0.000688</td>\n",
       "      <td>0.000000</td>\n",
       "      <td>0.000000</td>\n",
       "      <td>...</td>\n",
       "      <td>0.000000</td>\n",
       "      <td>0.000000</td>\n",
       "      <td>0.000000</td>\n",
       "      <td>0.000000</td>\n",
       "      <td>0.000000</td>\n",
       "      <td>0.000000</td>\n",
       "      <td>0.000000</td>\n",
       "      <td>0.000000</td>\n",
       "      <td>0.000000</td>\n",
       "      <td>0.000000</td>\n",
       "    </tr>\n",
       "    <tr>\n",
       "      <th>6</th>\n",
       "      <td>0.000000</td>\n",
       "      <td>0.000000</td>\n",
       "      <td>0.000000</td>\n",
       "      <td>0.000000</td>\n",
       "      <td>0.000000</td>\n",
       "      <td>0.000173</td>\n",
       "      <td>0.000345</td>\n",
       "      <td>0.000000</td>\n",
       "      <td>0.001275</td>\n",
       "      <td>0.000173</td>\n",
       "      <td>...</td>\n",
       "      <td>0.007850</td>\n",
       "      <td>0.000000</td>\n",
       "      <td>0.000000</td>\n",
       "      <td>0.000000</td>\n",
       "      <td>0.000204</td>\n",
       "      <td>0.000000</td>\n",
       "      <td>0.000000</td>\n",
       "      <td>0.000000</td>\n",
       "      <td>0.000000</td>\n",
       "      <td>0.000379</td>\n",
       "    </tr>\n",
       "    <tr>\n",
       "      <th>7</th>\n",
       "      <td>0.000000</td>\n",
       "      <td>0.000000</td>\n",
       "      <td>0.000000</td>\n",
       "      <td>0.000000</td>\n",
       "      <td>0.000000</td>\n",
       "      <td>0.000000</td>\n",
       "      <td>0.000000</td>\n",
       "      <td>0.000000</td>\n",
       "      <td>0.000328</td>\n",
       "      <td>0.000000</td>\n",
       "      <td>...</td>\n",
       "      <td>0.002449</td>\n",
       "      <td>0.000000</td>\n",
       "      <td>0.000000</td>\n",
       "      <td>0.000000</td>\n",
       "      <td>0.000000</td>\n",
       "      <td>0.000164</td>\n",
       "      <td>0.000000</td>\n",
       "      <td>0.000565</td>\n",
       "      <td>0.000000</td>\n",
       "      <td>0.000000</td>\n",
       "    </tr>\n",
       "  </tbody>\n",
       "</table>\n",
       "<p>8 rows × 7624 columns</p>\n",
       "</div>"
      ],
      "text/plain": [
       "     unkind   bazooka  sssssssssssssss…n   halfway    scoobi      jail  \\\n",
       "0  0.000242  0.000299           0.000000  0.000409  0.000000  0.000409   \n",
       "1  0.000000  0.000000           0.000000  0.000000  0.000000  0.000132   \n",
       "2  0.000000  0.000000           0.000000  0.000000  0.000249  0.000000   \n",
       "3  0.000050  0.000062           0.000084  0.000000  0.000123  0.000168   \n",
       "4  0.000000  0.000000           0.000000  0.000000  0.000000  0.000000   \n",
       "5  0.000136  0.000000           0.000000  0.000000  0.000000  0.000000   \n",
       "6  0.000000  0.000000           0.000000  0.000000  0.000000  0.000173   \n",
       "7  0.000000  0.000000           0.000000  0.000000  0.000000  0.000000   \n",
       "\n",
       "    yououou   rocwild    singin  papayapa  ...    murder    injuri  \\\n",
       "0  0.000000  0.000000  0.000000  0.000000  ...  0.000000  0.000000   \n",
       "1  0.000000  0.000000  0.000229  0.000000  ...  0.000000  0.000000   \n",
       "2  0.000000  0.000000  0.000591  0.000000  ...  0.000000  0.000000   \n",
       "3  0.000000  0.000000  0.000110  0.000000  ...  0.000168  0.000084   \n",
       "4  0.000000  0.000000  0.000000  0.000000  ...  0.000213  0.000000   \n",
       "5  0.000000  0.000688  0.000000  0.000000  ...  0.000000  0.000000   \n",
       "6  0.000345  0.000000  0.001275  0.000173  ...  0.007850  0.000000   \n",
       "7  0.000000  0.000000  0.000328  0.000000  ...  0.002449  0.000000   \n",
       "\n",
       "   honeybunni   bastard    stolen      bell  huhuhuhaa    fantas   stormin  \\\n",
       "0    0.000000  0.000000  0.000000  0.000356   0.000000  0.000000  0.000000   \n",
       "1    0.000263  0.000000  0.000000  0.000000   0.000000  0.000000  0.000000   \n",
       "2    0.000000  0.000000  0.000000  0.000148   0.000000  0.000000  0.000000   \n",
       "3    0.000000  0.000062  0.000149  0.000330   0.000084  0.000000  0.000084   \n",
       "4    0.000000  0.000312  0.000378  0.000926   0.000000  0.000000  0.000000   \n",
       "5    0.000000  0.000000  0.000000  0.000000   0.000000  0.000000  0.000000   \n",
       "6    0.000000  0.000000  0.000204  0.000000   0.000000  0.000000  0.000000   \n",
       "7    0.000000  0.000000  0.000000  0.000164   0.000000  0.000565  0.000000   \n",
       "\n",
       "         rb  \n",
       "0  0.000000  \n",
       "1  0.000000  \n",
       "2  0.000000  \n",
       "3  0.000185  \n",
       "4  0.000000  \n",
       "5  0.000000  \n",
       "6  0.000379  \n",
       "7  0.000000  \n",
       "\n",
       "[8 rows x 7624 columns]"
      ]
     },
     "execution_count": 13,
     "metadata": {},
     "output_type": "execute_result"
    }
   ],
   "source": [
    "genresList = ['blues_lyrics', 'country_lyrics', 'disco_lyrics', 'hiphop_lyrics', 'metal_lyrics', 'pop_lyrics', 'reggae_lyrics', 'rock_lyrics']\n",
    "\n",
    "genres = os.listdir(f'Documents/Genre words')\n",
    "BOW = {} # bag of words dictionary(of list)\n",
    "\n",
    "for genre in genres:\n",
    "    path = f'Documents/Genre words/{genre}'\n",
    "    wordsFile = open(path, 'r')\n",
    "    BOW[genre.replace('.csv', '')] = wordsFile.read().split(',')\n",
    "\n",
    "UniqueWords = set(BOW['blues_lyrics']).union(set(BOW['country_lyrics']).union(set(BOW['disco_lyrics']).union(set(BOW['hiphop_lyrics']).union(set(BOW['metal_lyrics']).union(set(BOW['pop_lyrics']).union(set(BOW['reggae_lyrics']).union(set(BOW['rock_lyrics']))))))))\n",
    "# print(UniqueWords)\n",
    "\n",
    "# number of words dictionary\n",
    "numOfWords = {}\n",
    "tf = {}\n",
    "numOfWordsList = list()\n",
    "\n",
    "for genreName in genresList:\n",
    "    numOfWords[genreName] = dict.fromkeys(UniqueWords, 0)\n",
    "    temp = numOfWords[genreName]\n",
    "\n",
    "    # updating the count of each word\n",
    "    for word in BOW[genreName]:\n",
    "        temp[word] += 1\n",
    "\n",
    "    numOfWords[genreName] = temp\n",
    "\n",
    "    # Term Frequency\n",
    "    tf[genreName] = computeTF(numOfWords[genreName], BOW[genreName])\n",
    "    \n",
    "    # updating numOfWordsList\n",
    "    numOfWordsList.append(numOfWords[genreName])\n",
    "    \n",
    "# computing IDF\n",
    "idfs = computeIDF(numOfWordsList)\n",
    "\n",
    "# computing TF IDF\n",
    "tfidf = {}\n",
    "tfidfList = list()\n",
    "\n",
    "for genreName in genresList:\n",
    "    tfidf[genreName] = computeTFIDF(tf[genreName], idfs)\n",
    "    tfidfList.append(tfidf[genreName])\n",
    "\n",
    "# pandas dataframe\n",
    "df = pd.DataFrame(tfidfList)\n",
    "df"
   ]
  },
  {
   "cell_type": "code",
   "execution_count": 14,
   "metadata": {},
   "outputs": [
    {
     "name": "stdout",
     "output_type": "stream",
     "text": [
      "[['cold' 4]\n",
      " ['summer' 1]\n",
      " ['night' 43]\n",
      " ...\n",
      " ['older' 2]\n",
      " ['cowboy' 2]\n",
      " ['ridin' 1]]\n"
     ]
    }
   ],
   "source": [
    "dataset = pd.read_csv('Documents/genres2/freqDict.csv')\n",
    "X = dataset.iloc[:, [0,1]].values\n",
    "y = dataset.iloc[:, 2].values\n",
    "\n",
    "print(X)"
   ]
  },
  {
   "cell_type": "code",
   "execution_count": 15,
   "metadata": {},
   "outputs": [
    {
     "data": {
      "image/png": "[encoded data removed]",
      "text/plain": [
       "<Figure size 576x432 with 1 Axes>"
      ]
     },
     "metadata": {
      "needs_background": "light"
     },
     "output_type": "display_data"
    }
   ],
   "source": [
    "fig = plt.figure(figsize=(8,6))\n",
    "dataset.groupby('genre').frequency.count().plot.bar(ylim=0)\n",
    "plt.show()"
   ]
  },
  {
   "cell_type": "code",
   "execution_count": 16,
   "metadata": {},
   "outputs": [
    {
     "data": {
      "text/plain": [
       "(15440, 1)"
      ]
     },
     "execution_count": 16,
     "metadata": {},
     "output_type": "execute_result"
    }
   ],
   "source": [
    "word=X[:,0]\n",
    "frequency=X[:,1]\n",
    "frequency= np.reshape(frequency,(-1,1))\n",
    "frequency.shape"
   ]
  },
  {
   "cell_type": "code",
   "execution_count": 17,
   "metadata": {},
   "outputs": [
    {
     "data": {
      "text/plain": [
       "(15440, 1)"
      ]
     },
     "execution_count": 17,
     "metadata": {},
     "output_type": "execute_result"
    }
   ],
   "source": [
    "le = preprocessing.LabelEncoder()\n",
    "word_encoded=le.fit_transform(word.astype(str))\n",
    "word_encoded = np.reshape(word_encoded,(-1,1))\n",
    "word_encoded.shape"
   ]
  },
  {
   "cell_type": "code",
   "execution_count": 18,
   "metadata": {},
   "outputs": [
    {
     "data": {
      "text/plain": [
       "(15440, 2)"
      ]
     },
     "execution_count": 18,
     "metadata": {},
     "output_type": "execute_result"
    }
   ],
   "source": [
    "features = np.column_stack((word_encoded,frequency))\n",
    "features.shape"
   ]
  },
  {
   "cell_type": "code",
   "execution_count": 19,
   "metadata": {},
   "outputs": [],
   "source": [
    "from sklearn.model_selection import train_test_split\n",
    "X_train, X_test, y_train, y_test = train_test_split(features, y, test_size = 0.2, random_state = 15)"
   ]
  },
  {
   "cell_type": "code",
   "execution_count": 20,
   "metadata": {},
   "outputs": [
    {
     "data": {
      "text/plain": [
       "GaussianNB(priors=None, var_smoothing=1e-09)"
      ]
     },
     "execution_count": 20,
     "metadata": {},
     "output_type": "execute_result"
    }
   ],
   "source": [
    "# Naive Bayes\n",
    "\n",
    "from sklearn.naive_bayes import GaussianNB\n",
    "classifier = GaussianNB()\n",
    "classifier.fit(X_train,y_train)"
   ]
  },
  {
   "cell_type": "code",
   "execution_count": 21,
   "metadata": {},
   "outputs": [],
   "source": [
    "y_pred = classifier.predict(X_test)"
   ]
  },
  {
   "cell_type": "code",
   "execution_count": 22,
   "metadata": {},
   "outputs": [
    {
     "name": "stdout",
     "output_type": "stream",
     "text": [
      "[[  0   0   0 247   0   0   0   0]\n",
      " [  0   0   0 307   0   0   0   0]\n",
      " [  0   0   0 215   0   1   0   0]\n",
      " [  0   0   0 922   0   6   0   0]\n",
      " [  0   0   0 376   0   0   0   0]\n",
      " [  0   0   0 254   0   2   0   0]\n",
      " [  0   0   0 352   0   1   0   0]\n",
      " [  0   0   0 403   0   2   0   0]]\n"
     ]
    }
   ],
   "source": [
    "from sklearn.metrics import confusion_matrix\n",
    "cm = confusion_matrix(y_test, y_pred)\n",
    "print(cm)"
   ]
  },
  {
   "cell_type": "code",
   "execution_count": 23,
   "metadata": {},
   "outputs": [
    {
     "name": "stdout",
     "output_type": "stream",
     "text": [
      "Accuracy: 0.29922279792746115\n"
     ]
    }
   ],
   "source": [
    "from sklearn import metrics\n",
    "\n",
    "# Model Accuracy, how often is the classifier correct?\n",
    "print(\"Accuracy:\",metrics.accuracy_score(y_test, y_pred))"
   ]
  },
  {
   "cell_type": "code",
   "execution_count": 24,
   "metadata": {},
   "outputs": [],
   "source": [
    "from sklearn.preprocessing import StandardScaler, LabelEncoder\n",
    "sc = StandardScaler()\n",
    "X_train = sc.fit_transform(X_train)\n",
    "X_test = sc.transform(X_test)"
   ]
  },
  {
   "cell_type": "code",
   "execution_count": 25,
   "metadata": {},
   "outputs": [
    {
     "name": "stdout",
     "output_type": "stream",
     "text": [
      "[[  0   0   0 247   0   0   0   0]\n",
      " [  0   0   0 307   0   0   0   0]\n",
      " [  0   0   0 216   0   0   0   0]\n",
      " [  0   0   0 928   0   0   0   0]\n",
      " [  0   0   0 376   0   0   0   0]\n",
      " [  0   0   0 256   0   0   0   0]\n",
      " [  0   0   0 353   0   0   0   0]\n",
      " [  0   0   0 405   0   0   0   0]]\n",
      "Accuracy: 0.3005181347150259\n"
     ]
    }
   ],
   "source": [
    "# SVM\n",
    "\n",
    "from sklearn.svm import SVC\n",
    "classifier = SVC(kernel = 'linear', random_state = 42)\n",
    "classifier.fit(X_train,y_train)\n",
    "\n",
    "y_pred = classifier.predict(X_test)\n",
    "\n",
    "from sklearn.metrics import confusion_matrix\n",
    "cm = confusion_matrix(y_test, y_pred)\n",
    "print(cm)\n",
    "\n",
    "from sklearn import metrics\n",
    "\n",
    "# Model Accuracy, how often is the classifier correct?\n",
    "print(\"Accuracy:\",metrics.accuracy_score(y_test, y_pred))"
   ]
  },
  {
   "cell_type": "code",
   "execution_count": 27,
   "metadata": {},
   "outputs": [
    {
     "name": "stdout",
     "output_type": "stream",
     "text": [
      "[[ 38  34  12  90  27   8  20  18]\n",
      " [ 45  43  13 132  23  11  11  29]\n",
      " [ 36  33  11  83  18   4  17  14]\n",
      " [107 115  48 419  79  31  65  64]\n",
      " [ 53  40  19 164  32  13  27  28]\n",
      " [ 26  40  15 101  32  16  17   9]\n",
      " [ 39  52  22 140  36  16  31  17]\n",
      " [ 56  48  20 169  32  16  40  24]]\n",
      "Accuracy: 0.19883419689119172\n"
     ]
    }
   ],
   "source": [
    "# K-Nearest Neighbors\n",
    "\n",
    "from sklearn.neighbors import KNeighborsClassifier\n",
    "classifier = KNeighborsClassifier(n_neighbors = 5, metric = 'minkowski', p = 2)\n",
    "classifier.fit(X_train,y_train)\n",
    "\n",
    "y_pred = classifier.predict(X_test)\n",
    "\n",
    "from sklearn.metrics import confusion_matrix\n",
    "cm = confusion_matrix(y_test, y_pred)\n",
    "print(cm)\n",
    "\n",
    "from sklearn import metrics\n",
    "\n",
    "# Model Accuracy, how often is the classifier correct?\n",
    "print(\"Accuracy:\",metrics.accuracy_score(y_test, y_pred))"
   ]
  },
  {
   "cell_type": "code",
   "execution_count": 28,
   "metadata": {},
   "outputs": [
    {
     "name": "stdout",
     "output_type": "stream",
     "text": [
      "[[ 10  21  20  82  40  17  25  32]\n",
      " [ 28  21  23  93  50  17  33  42]\n",
      " [ 21  24  15  63  28  18  21  26]\n",
      " [ 61  83  56 317 122  69  95 125]\n",
      " [ 27  50  27 108  32  27  44  61]\n",
      " [ 19  36  24  77  42  18  23  17]\n",
      " [ 16  31  24 119  51  32  38  42]\n",
      " [ 34  51  35 131  56  28  36  34]]\n",
      "Accuracy: 0.15705958549222798\n"
     ]
    }
   ],
   "source": [
    "# Random Forest\n",
    "\n",
    "from sklearn.ensemble import RandomForestClassifier\n",
    "classifier = RandomForestClassifier(n_estimators = 10, criterion = 'entropy', random_state = 0)\n",
    "classifier.fit(X_train,y_train)\n",
    "\n",
    "y_pred = classifier.predict(X_test)\n",
    "\n",
    "from sklearn.metrics import confusion_matrix\n",
    "cm = confusion_matrix(y_test, y_pred)\n",
    "print(cm)\n",
    "\n",
    "from sklearn import metrics\n",
    "\n",
    "# Model Accuracy, how often is the classifier correct?\n",
    "print(\"Accuracy:\",metrics.accuracy_score(y_test, y_pred))"
   ]
  },
  {
   "cell_type": "code",
   "execution_count": 29,
   "metadata": {},
   "outputs": [
    {
     "name": "stdout",
     "output_type": "stream",
     "text": [
      "[[  0   0   0 247   0   0   0   0]\n",
      " [  0   0   0 307   0   0   0   0]\n",
      " [  0   0   0 216   0   0   0   0]\n",
      " [  0   0   0 928   0   0   0   0]\n",
      " [  0   0   0 376   0   0   0   0]\n",
      " [  0   0   0 256   0   0   0   0]\n",
      " [  0   0   0 353   0   0   0   0]\n",
      " [  0   0   0 405   0   0   0   0]]\n",
      "Accuracy: 0.3005181347150259\n"
     ]
    },
    {
     "name": "stderr",
     "output_type": "stream",
     "text": [
      "/usr/local/lib/python3.7/dist-packages/sklearn/neural_network/_multilayer_perceptron.py:470: ConvergenceWarning: lbfgs failed to converge (status=1):\n",
      "STOP: TOTAL NO. of ITERATIONS REACHED LIMIT.\n",
      "\n",
      "Increase the number of iterations (max_iter) or scale the data as shown in:\n",
      "    https://scikit-learn.org/stable/modules/preprocessing.html\n",
      "  self.n_iter_ = _check_optimize_result(\"lbfgs\", opt_res, self.max_iter)\n"
     ]
    }
   ],
   "source": [
    "# NN\n",
    "\n",
    "from sklearn.neural_network import MLPClassifier\n",
    "\n",
    "clf = MLPClassifier(solver='lbfgs', alpha=1e-5, hidden_layer_sizes=(15,), random_state=1)\n",
    "clf.fit(X_train, y_train)\n",
    "\n",
    "y_pred = clf.predict(X_test)\n",
    "\n",
    "from sklearn.metrics import confusion_matrix\n",
    "cm = confusion_matrix(y_test, y_pred)\n",
    "print(cm)\n",
    "\n",
    "from sklearn import metrics\n",
    "\n",
    "# Model Accuracy, how often is the classifier correct?\n",
    "print(\"Accuracy:\",metrics.accuracy_score(y_test, y_pred))"
   ]
  },
  {
   "cell_type": "code",
   "execution_count": 30,
   "metadata": {},
   "outputs": [
    {
     "name": "stdout",
     "output_type": "stream",
     "text": [
      "Accuracy: 0.29954663212435234\n"
     ]
    }
   ],
   "source": [
    "#Logistic Regression\n",
    "\n",
    "from sklearn.linear_model import LogisticRegression\n",
    "\n",
    "classifier = LogisticRegression()\n",
    "classifier.fit(X_train, y_train)\n",
    "score = classifier.score(X_test, y_test)\n",
    "\n",
    "print(\"Accuracy:\", score)"
   ]
  },
  {
   "cell_type": "code",
   "execution_count": 31,
   "metadata": {},
   "outputs": [],
   "source": [
    "# # NN?\n",
    "\n",
    "# from keras.models import Sequential\n",
    "# from keras import layers\n",
    "\n",
    "# input_dim = X_train.shape[1]  # Number of features\n",
    "\n",
    "# model = Sequential()\n",
    "# model.add(layers.Dense(512, input_dim=input_dim, activation='relu'))\n",
    "\n",
    "# model.add(layers.Dense(256, activation='relu'))\n",
    "# model.add(layers.Dense(1, activation='sigmoid'))\n",
    "\n",
    "# model.compile(loss='binary_crossentropy', optimizer='adam', metrics=['accuracy'])\n",
    "\n",
    "# encoder = LabelEncoder()\n",
    "\n",
    "# # y_train = encoder.fit_transform(y_train)\n",
    "# # y_test = encoder.fit_transform(y_test)\n",
    "# y_enc = encoder.fit_transform(y)\n",
    "\n",
    "# X_train, X_test, y_train, y_test = train_test_split(features, y_enc, test_size = 0.2, random_state = 15)\n",
    "\n",
    "# history = model.fit(X_train, y_train, epochs=20, batch_size=256)\n",
    "\n",
    "# # loss, accuracy = model.evaluate(X_train, y_train, verbose=False)\n",
    "# # print(\"Training Accuracy: {:.4f}\".format(accuracy))\n",
    "# # loss, accuracy = model.evaluate(X_test, y_test, verbose=False)\n",
    "# # print(\"Testing Accuracy:  {:.4f}\".format(accuracy))\n",
    "\n",
    "# # calculate accuracy\n",
    "# test_loss, test_acc = model.evaluate(X_test,y_test)\n",
    "# print('test_acc: ',test_acc)"
   ]
  },
  {
   "cell_type": "code",
   "execution_count": 32,
   "metadata": {},
   "outputs": [
    {
     "ename": "NameError",
     "evalue": "name 'Sequential' is not defined",
     "output_type": "error",
     "traceback": [
      "\u001b[0;31m---------------------------------------------------------------------------\u001b[0m",
      "\u001b[0;31mNameError\u001b[0m                                 Traceback (most recent call last)",
      "\u001b[0;32m<ipython-input-32-28533edfc3e8>\u001b[0m in \u001b[0;36m<module>\u001b[0;34m\u001b[0m\n\u001b[0;32m----> 1\u001b[0;31m \u001b[0mmodel\u001b[0m \u001b[0;34m=\u001b[0m \u001b[0mSequential\u001b[0m\u001b[0;34m(\u001b[0m\u001b[0;34m)\u001b[0m\u001b[0;34m\u001b[0m\u001b[0;34m\u001b[0m\u001b[0m\n\u001b[0m\u001b[1;32m      2\u001b[0m \u001b[0mmodel\u001b[0m\u001b[0;34m.\u001b[0m\u001b[0madd\u001b[0m\u001b[0;34m(\u001b[0m\u001b[0mlayers\u001b[0m\u001b[0;34m.\u001b[0m\u001b[0mDense\u001b[0m\u001b[0;34m(\u001b[0m\u001b[0;36m256\u001b[0m\u001b[0;34m,\u001b[0m \u001b[0mactivation\u001b[0m\u001b[0;34m=\u001b[0m\u001b[0;34m'relu'\u001b[0m\u001b[0;34m,\u001b[0m \u001b[0minput_shape\u001b[0m\u001b[0;34m=\u001b[0m\u001b[0;34m(\u001b[0m\u001b[0mX_train\u001b[0m\u001b[0;34m.\u001b[0m\u001b[0mshape\u001b[0m\u001b[0;34m[\u001b[0m\u001b[0;36m1\u001b[0m\u001b[0;34m]\u001b[0m\u001b[0;34m,\u001b[0m\u001b[0;34m)\u001b[0m\u001b[0;34m)\u001b[0m\u001b[0;34m)\u001b[0m\u001b[0;34m\u001b[0m\u001b[0;34m\u001b[0m\u001b[0m\n\u001b[1;32m      3\u001b[0m \u001b[0;34m\u001b[0m\u001b[0m\n\u001b[1;32m      4\u001b[0m \u001b[0mmodel\u001b[0m\u001b[0;34m.\u001b[0m\u001b[0madd\u001b[0m\u001b[0;34m(\u001b[0m\u001b[0mlayers\u001b[0m\u001b[0;34m.\u001b[0m\u001b[0mDense\u001b[0m\u001b[0;34m(\u001b[0m\u001b[0;36m128\u001b[0m\u001b[0;34m,\u001b[0m \u001b[0mactivation\u001b[0m\u001b[0;34m=\u001b[0m\u001b[0;34m'relu'\u001b[0m\u001b[0;34m)\u001b[0m\u001b[0;34m)\u001b[0m\u001b[0;34m\u001b[0m\u001b[0;34m\u001b[0m\u001b[0m\n\u001b[1;32m      5\u001b[0m \u001b[0;34m\u001b[0m\u001b[0m\n",
      "\u001b[0;31mNameError\u001b[0m: name 'Sequential' is not defined"
     ]
    }
   ],
   "source": [
    "model = Sequential()\n",
    "model.add(layers.Dense(256, activation='relu', input_shape=(X_train.shape[1],)))\n",
    "\n",
    "model.add(layers.Dense(128, activation='relu'))\n",
    "\n",
    "model.add(layers.Dense(64, activation='sigmoid'))\n",
    "\n",
    "model.add(layers.Dense(10, activation='softmax'))\n",
    "\n",
    "model.compile(optimizer='adam',loss='sparse_categorical_crossentropy',metrics=['accuracy'])\n",
    "              \n",
    "history = model.fit(X_train,y_train,epochs=20,batch_size=64)\n",
    "\n",
    "# calculate accuracy\n",
    "test_loss, test_acc = model.evaluate(X_test,y_test)\n",
    "print('test_acc: ',test_acc)"
   ]
  },
  {
   "cell_type": "code",
   "execution_count": null,
   "metadata": {},
   "outputs": [],
   "source": []
  }
 ],
 "metadata": {
  "kernelspec": {
   "display_name": "Python 3",
   "language": "python",
   "name": "python3"
  },
  "language_info": {
   "codemirror_mode": {
    "name": "ipython",
    "version": 3
   },
   "file_extension": ".py",
   "mimetype": "text/x-python",
   "name": "python",
   "nbconvert_exporter": "python",
   "pygments_lexer": "ipython3",
   "version": "3.7.5"
  }
 },
 "nbformat": 4,
 "nbformat_minor": 4
}
