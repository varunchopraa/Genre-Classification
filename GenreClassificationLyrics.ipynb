{
 "cells": [
  {
   "cell_type": "markdown",
   "metadata": {},
   "source": [
    "### Importing Libraries"
   ]
  },
  {
   "cell_type": "code",
   "execution_count": 2,
   "metadata": {},
   "outputs": [],
   "source": [
    "import os\n",
    "import string\n",
    "import csv\n",
    "from nltk.corpus import stopwords\n",
    "from nltk.tokenize import word_tokenize\n",
    "from sklearn.utils import shuffle\n",
    "import numpy as np\n",
    "import matplotlib.pyplot as plt\n",
    "import pandas as pd\n",
    "from sklearn import preprocessing\n",
    "from nltk.stem.porter import PorterStemmer\n",
    "from nltk.stem import WordNetLemmatizer"
   ]
  },
  {
   "cell_type": "code",
   "execution_count": 3,
   "metadata": {
    "scrolled": true
   },
   "outputs": [
    {
     "name": "stderr",
     "output_type": "stream",
     "text": [
      "[nltk_data] Downloading package stopwords to\n",
      "[nltk_data]     /Users/varunchopra/nltk_data...\n",
      "[nltk_data]   Package stopwords is already up-to-date!\n",
      "[nltk_data] Downloading package words to\n",
      "[nltk_data]     /Users/varunchopra/nltk_data...\n",
      "[nltk_data]   Unzipping corpora/words.zip.\n",
      "[nltk_data] Downloading package wordnet to\n",
      "[nltk_data]     /Users/varunchopra/nltk_data...\n",
      "[nltk_data]   Unzipping corpora/wordnet.zip.\n"
     ]
    },
    {
     "data": {
      "text/plain": [
       "True"
      ]
     },
     "execution_count": 3,
     "metadata": {},
     "output_type": "execute_result"
    }
   ],
   "source": [
    "import nltk\n",
    "nltk.download('stopwords')\n",
    "nltk.download('words')\n",
    "nltk.download('wordnet')"
   ]
  },
  {
   "cell_type": "markdown",
   "metadata": {},
   "source": [
    "<h3>Reading the input from lyrics file.</h3>"
   ]
  },
  {
   "cell_type": "code",
   "execution_count": 8,
   "metadata": {},
   "outputs": [],
   "source": [
    "stop_words = (stopwords.words('english'))\n",
    "newsw=['youve','youd','youll','shes','ive','hes','cant','never','dont','one','didnt']\n",
    "stop_words.extend(newsw)\n",
    "\n",
    "header = ['word', 'frequency', 'genre']\n",
    "\n",
    "with open(f'Documents/genres2/freqDict.csv', 'w', newline = \"\") as file:\n",
    "    writer = csv.writer(file)\n",
    "    writer.writerow(header)\n",
    "\n",
    "# a list of all the present genres\n",
    "genresList = ['blues_lyrics', 'country_lyrics', 'disco_lyrics', 'hiphop_lyrics', 'metal_lyrics', 'pop_lyrics', 'reggae_lyrics', 'rock_lyrics']\n",
    "\n",
    "# iterating over the list of all the genres in the genreList\n",
    "for genreName in genresList:\n",
    "    \n",
    "    genreLyrics = ''\n",
    "    lyricStopped = list()\n",
    "    \n",
    "    # getting the path of the current genre\n",
    "    genre = os.listdir(f'Documents/genres2/{genreName}')\n",
    "    \n",
    "    # selecting each song from each genre\n",
    "    for song in genre:\n",
    "        path = f'Documents/genres2/{genreName}/{song}'\n",
    "        \n",
    "        if song == '.DS_Store':\n",
    "            continue\n",
    "        \n",
    "        # defining the path of a song lyrics file\n",
    "        songname = open(path, 'r')\n",
    "        \n",
    "        # read all the words in lower case\n",
    "        lyric = songname.read().lower()\n",
    "        \n",
    "        # removing punctuations\n",
    "        for punct in string.punctuation:\n",
    "            lyric = lyric.replace(punct, '')\n",
    "        \n",
    "        # adding lyrics to genreLyrics list\n",
    "        genreLyrics += lyric\n",
    "    \n",
    "    # extracting words from a particular genreLyrics\n",
    "    words = genreLyrics.split()\n",
    "    \n",
    "    # removing numbers\n",
    "    words = [x for x in words if not (x.isdigit() or x[0] == '-' and x[1:].isdigit())]\n",
    "    \n",
    "    # lemmatized words\n",
    "    lmtzr = WordNetLemmatizer()\n",
    "    words = [lmtzr.lemmatize(x) for x in words]\n",
    "    \n",
    "    # removing the stopwords\n",
    "    for l in words:\n",
    "        if l not in stop_words:\n",
    "            lyricStopped.append(l)\n",
    "            \n",
    "    # stemming\n",
    "    porter = PorterStemmer()\n",
    "    lyricStopped = [porter.stem(word) for word in lyricStopped]\n",
    "    \n",
    "    # frequency dictionary\n",
    "    freqDict = {}\n",
    "    \n",
    "    # counting the occurence of all the words in the dictionary\n",
    "    # no need to make a set of UNIQUE WORDS as the \"keys\" of this dictionary will all be unique\n",
    "    for word in lyricStopped:\n",
    "        freqDict[word] = freqDict.get(word, 0) + 1\n",
    "    # print the dictionary\n",
    "    with open(f'Documents/genres2/freqDict.csv', 'a', newline = \"\") as file:\n",
    "        writer = csv.writer(file)\n",
    "        for key, value in freqDict.items():\n",
    "            writer.writerow([key, value, genreName.replace('_lyrics','')])\n"
   ]
  },
  {
   "cell_type": "code",
   "execution_count": 6,
   "metadata": {},
   "outputs": [
    {
     "name": "stdout",
     "output_type": "stream",
     "text": [
      "[['true' 5]\n",
      " ['love' 65]\n",
      " ['goneha' 2]\n",
      " ...\n",
      " ['devil' 1]\n",
      " ['asid' 1]\n",
      " ['spit' 1]]\n"
     ]
    }
   ],
   "source": [
    "dataset = pd.read_csv('Documents/genres2/freqDict.csv')\n",
    "X = dataset.iloc[:, [0,1]].values\n",
    "y = dataset.iloc[:, 2].values\n",
    "\n",
    "print(X)"
   ]
  },
  {
   "cell_type": "code",
   "execution_count": 9,
   "metadata": {},
   "outputs": [
    {
     "data": {
      "image/png": "[encoded data removed]",
      "text/plain": [
       "<Figure size 576x432 with 1 Axes>"
      ]
     },
     "metadata": {
      "needs_background": "light"
     },
     "output_type": "display_data"
    }
   ],
   "source": [
    "fig = plt.figure(figsize=(8,6))\n",
    "dataset.groupby('genre').frequency.count().plot.bar(ylim=0)\n",
    "plt.show()"
   ]
  },
  {
   "cell_type": "code",
   "execution_count": 10,
   "metadata": {},
   "outputs": [
    {
     "data": {
      "text/plain": [
       "(11470, 1)"
      ]
     },
     "execution_count": 10,
     "metadata": {},
     "output_type": "execute_result"
    }
   ],
   "source": [
    "word=X[:,0]\n",
    "frequency=X[:,1]\n",
    "frequency= np.reshape(frequency,(-1,1))\n",
    "frequency.shape"
   ]
  },
  {
   "cell_type": "code",
   "execution_count": 11,
   "metadata": {},
   "outputs": [
    {
     "data": {
      "text/plain": [
       "(11470, 1)"
      ]
     },
     "execution_count": 11,
     "metadata": {},
     "output_type": "execute_result"
    }
   ],
   "source": [
    "le = preprocessing.LabelEncoder()\n",
    "word_encoded=le.fit_transform(word)\n",
    "word_encoded = np.reshape(word_encoded,(-1,1))\n",
    "word_encoded.shape"
   ]
  },
  {
   "cell_type": "code",
   "execution_count": 12,
   "metadata": {},
   "outputs": [
    {
     "data": {
      "text/plain": [
       "(11470, 2)"
      ]
     },
     "execution_count": 12,
     "metadata": {},
     "output_type": "execute_result"
    }
   ],
   "source": [
    "features = np.column_stack((word_encoded,frequency))\n",
    "features.shape"
   ]
  },
  {
   "cell_type": "code",
   "execution_count": 65,
   "metadata": {},
   "outputs": [],
   "source": [
    "from sklearn.model_selection import train_test_split\n",
    "X_train, X_test, y_train, y_test = train_test_split(features, y, test_size = 0.2, random_state = 42)"
   ]
  },
  {
   "cell_type": "code",
   "execution_count": 66,
   "metadata": {},
   "outputs": [
    {
     "data": {
      "text/plain": [
       "GaussianNB(priors=None, var_smoothing=1e-09)"
      ]
     },
     "execution_count": 66,
     "metadata": {},
     "output_type": "execute_result"
    }
   ],
   "source": [
    "from sklearn.naive_bayes import GaussianNB\n",
    "classifier = GaussianNB()\n",
    "classifier.fit(X_train,y_train)"
   ]
  },
  {
   "cell_type": "code",
   "execution_count": 67,
   "metadata": {},
   "outputs": [],
   "source": [
    "y_pred = classifier.predict(X_test)"
   ]
  },
  {
   "cell_type": "code",
   "execution_count": 68,
   "metadata": {},
   "outputs": [
    {
     "name": "stdout",
     "output_type": "stream",
     "text": [
      "[[  0   0   0 203   0   4   0   0]\n",
      " [  0   0   0 214   0   5   0   0]\n",
      " [  0   0   0 243   0   7   0   0]\n",
      " [  0   0   0 701   0  12   0   0]\n",
      " [  0   0   0 270   0   0   0   0]\n",
      " [  0   0   0 236   0  13   0   0]\n",
      " [  0   0   0 133   0   3   0   0]\n",
      " [  0   0   0 243   0   7   0   0]]\n"
     ]
    }
   ],
   "source": [
    "from sklearn.metrics import confusion_matrix\n",
    "cm = confusion_matrix(y_test, y_pred)\n",
    "print(cm)"
   ]
  },
  {
   "cell_type": "code",
   "execution_count": 69,
   "metadata": {},
   "outputs": [
    {
     "name": "stdout",
     "output_type": "stream",
     "text": [
      "Accuracy: 0.3112467306015693\n"
     ]
    }
   ],
   "source": [
    "from sklearn import metrics\n",
    "\n",
    "# Model Accuracy, how often is the classifier correct?\n",
    "print(\"Accuracy:\",metrics.accuracy_score(y_test, y_pred))"
   ]
  }
 ],
 "metadata": {
  "kernelspec": {
   "display_name": "Python 3",
   "language": "python",
   "name": "python3"
  },
  "language_info": {
   "codemirror_mode": {
    "name": "ipython",
    "version": 3
   },
   "file_extension": ".py",
   "mimetype": "text/x-python",
   "name": "python",
   "nbconvert_exporter": "python",
   "pygments_lexer": "ipython3",
   "version": "3.7.4"
  }
 },
 "nbformat": 4,
 "nbformat_minor": 4
}
