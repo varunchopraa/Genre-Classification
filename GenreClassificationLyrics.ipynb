{
 "cells": [
  {
   "cell_type": "markdown",
   "metadata": {},
   "source": [
    "### Importing Libraries"
   ]
  },
  {
   "cell_type": "code",
   "execution_count": 1,
   "metadata": {},
   "outputs": [],
   "source": [
    "import os\n",
    "import string\n",
    "import csv\n",
    "from nltk.corpus import stopwords\n",
    "from nltk.tokenize import word_tokenize\n",
    "from sklearn.utils import shuffle\n",
    "import numpy as np\n",
    "import matplotlib.pyplot as plt\n",
    "import pandas as pd\n",
    "from sklearn import preprocessing\n",
    "from nltk.stem.porter import PorterStemmer\n",
    "from nltk.stem import WordNetLemmatizer"
   ]
  },
  {
   "cell_type": "code",
   "execution_count": 2,
   "metadata": {
    "scrolled": true
   },
   "outputs": [
    {
     "name": "stderr",
     "output_type": "stream",
     "text": [
      "[nltk_data] Downloading package stopwords to\n",
      "[nltk_data]     /Users/varunchopra/nltk_data...\n",
      "[nltk_data]   Package stopwords is already up-to-date!\n",
      "[nltk_data] Downloading package words to\n",
      "[nltk_data]     /Users/varunchopra/nltk_data...\n",
      "[nltk_data]   Package words is already up-to-date!\n",
      "[nltk_data] Downloading package wordnet to\n",
      "[nltk_data]     /Users/varunchopra/nltk_data...\n",
      "[nltk_data]   Package wordnet is already up-to-date!\n"
     ]
    },
    {
     "data": {
      "text/plain": [
       "True"
      ]
     },
     "execution_count": 2,
     "metadata": {},
     "output_type": "execute_result"
    }
   ],
   "source": [
    "import nltk\n",
    "nltk.download('stopwords')\n",
    "nltk.download('words')\n",
    "nltk.download('wordnet')"
   ]
  },
  {
   "cell_type": "markdown",
   "metadata": {},
   "source": [
    "<h3>Reading the input from lyrics file.</h3>"
   ]
  },
  {
   "cell_type": "code",
   "execution_count": 3,
   "metadata": {},
   "outputs": [
    {
     "name": "stdout",
     "output_type": "stream",
     "text": [
      "{'blues': 56, 'disco': 85, 'hiphop': 93, 'pop': 58, 'reggae': 85}\n",
      "{'blues': 10001, 'disco': 23073, 'hiphop': 47914, 'pop': 18786, 'reggae': 22948}\n"
     ]
    }
   ],
   "source": [
    "stop_words = (stopwords.words('english'))\n",
    "newsw=['youve','youd','youll','shes','ive','hes','cant','never','dont','one','didnt']\n",
    "stop_words.extend(newsw)\n",
    "\n",
    "songCount = dict()\n",
    "wordCount = dict()\n",
    "\n",
    "header = ['word', 'frequency', 'genre']\n",
    "\n",
    "with open(f'Documents/genres2/freqDict.csv', 'w', newline = \"\") as file:\n",
    "    writer = csv.writer(file)\n",
    "    writer.writerow(header)\n",
    "\n",
    "# a list of all the present genres\n",
    "# genresList = ['blues_lyrics', 'country_lyrics', 'disco_lyrics', 'hiphop_lyrics', 'metal_lyrics', 'pop_lyrics', 'reggae_lyrics', 'rock_lyrics']\n",
    "genresList = ['blues_lyrics', 'disco_lyrics', 'hiphop_lyrics', 'pop_lyrics', 'reggae_lyrics']\n",
    "\n",
    "# iterating over the list of all the genres in the genreList\n",
    "for genreName in genresList:\n",
    "    \n",
    "    songCount[genreName.replace('_lyrics','')] = 0\n",
    "    \n",
    "    genreLyrics = ''\n",
    "    lyricStopped = list()\n",
    "    \n",
    "    # getting the path of the current genre\n",
    "    genre = os.listdir(f'Documents/genres2/{genreName}')\n",
    "    \n",
    "    # selecting each song from each genre\n",
    "    for song in genre:\n",
    "        path = f'Documents/genres2/{genreName}/{song}'\n",
    "        \n",
    "        if song == '.DS_Store':\n",
    "            continue\n",
    "            \n",
    "        # counting songs per genre    \n",
    "        songCount[genreName.replace('_lyrics','')] += 1\n",
    "        \n",
    "        # defining the path of a song lyrics file\n",
    "        songname = open(path, 'r')\n",
    "        \n",
    "        # read all the words in lower case\n",
    "        lyric = songname.read().lower()\n",
    "        \n",
    "        # removing punctuations\n",
    "        for punct in string.punctuation:\n",
    "            lyric = lyric.replace(punct, '')\n",
    "        \n",
    "        # adding lyrics to genreLyrics list\n",
    "        genreLyrics += lyric\n",
    "    \n",
    "    # extracting words from a particular genreLyrics\n",
    "    words = genreLyrics.split()\n",
    "    \n",
    "    # counting words per genre\n",
    "    wordCount[genreName.replace('_lyrics','')] = len(words)\n",
    "    \n",
    "    # removing numbers\n",
    "    words = [x for x in words if not (x.isdigit() or x[0] == '-' and x[1:].isdigit())]\n",
    "    \n",
    "    # lemmatized words\n",
    "    lmtzr = WordNetLemmatizer()\n",
    "    words = [lmtzr.lemmatize(x) for x in words]\n",
    "    \n",
    "    # removing the stopwords\n",
    "    for l in words:\n",
    "        if l not in stop_words:\n",
    "            lyricStopped.append(l)\n",
    "            \n",
    "    # stemming\n",
    "    porter = PorterStemmer()\n",
    "    lyricStopped = [porter.stem(word) for word in lyricStopped]\n",
    "    \n",
    "    # frequency dictionary\n",
    "    freqDict = {}\n",
    "    \n",
    "    # counting the occurence of all the words in the dictionary\n",
    "    # no need to make a set of UNIQUE WORDS as the \"keys\" of this dictionary will all be unique\n",
    "    for word in lyricStopped:\n",
    "        freqDict[word] = freqDict.get(word, 0) + 1\n",
    "    # print the dictionary\n",
    "    with open(f'Documents/genres2/freqDict.csv', 'a', newline = \"\") as file:\n",
    "        writer = csv.writer(file)\n",
    "        for key, value in freqDict.items():\n",
    "            writer.writerow([key, value, genreName.replace('_lyrics','')])\n",
    "            \n",
    "    \n",
    "            \n",
    "print(songCount)\n",
    "print(wordCount)\n"
   ]
  },
  {
   "cell_type": "code",
   "execution_count": 4,
   "metadata": {},
   "outputs": [
    {
     "name": "stdout",
     "output_type": "stream",
     "text": [
      "[['true' 8]\n",
      " ['love' 83]\n",
      " ['goneha' 2]\n",
      " ...\n",
      " ['seat' 2]\n",
      " ['commot' 4]\n",
      " ['wind' 2]]\n"
     ]
    }
   ],
   "source": [
    "dataset = pd.read_csv('Documents/genres2/freqDict.csv')\n",
    "X = dataset.iloc[:, [0,1]].values\n",
    "y = dataset.iloc[:, 2].values\n",
    "\n",
    "print(X)"
   ]
  },
  {
   "cell_type": "code",
   "execution_count": 5,
   "metadata": {},
   "outputs": [
    {
     "data": {
      "image/png": "[encoded data removed]",
      "text/plain": [
       "<Figure size 576x432 with 1 Axes>"
      ]
     },
     "metadata": {
      "needs_background": "light"
     },
     "output_type": "display_data"
    }
   ],
   "source": [
    "fig = plt.figure(figsize=(8,6))\n",
    "dataset.groupby('genre').frequency.count().plot.bar(ylim=0)\n",
    "plt.show()"
   ]
  },
  {
   "cell_type": "code",
   "execution_count": 6,
   "metadata": {},
   "outputs": [
    {
     "data": {
      "text/plain": [
       "(10353, 1)"
      ]
     },
     "execution_count": 6,
     "metadata": {},
     "output_type": "execute_result"
    }
   ],
   "source": [
    "word=X[:,0]\n",
    "frequency=X[:,1]\n",
    "frequency= np.reshape(frequency,(-1,1))\n",
    "frequency.shape"
   ]
  },
  {
   "cell_type": "code",
   "execution_count": 7,
   "metadata": {},
   "outputs": [
    {
     "data": {
      "text/plain": [
       "(10353, 1)"
      ]
     },
     "execution_count": 7,
     "metadata": {},
     "output_type": "execute_result"
    }
   ],
   "source": [
    "le = preprocessing.LabelEncoder()\n",
    "word_encoded=le.fit_transform(word.astype(str))\n",
    "word_encoded = np.reshape(word_encoded,(-1,1))\n",
    "word_encoded.shape"
   ]
  },
  {
   "cell_type": "code",
   "execution_count": 8,
   "metadata": {},
   "outputs": [
    {
     "data": {
      "text/plain": [
       "(10353, 2)"
      ]
     },
     "execution_count": 8,
     "metadata": {},
     "output_type": "execute_result"
    }
   ],
   "source": [
    "features = np.column_stack((word_encoded,frequency))\n",
    "features.shape"
   ]
  },
  {
   "cell_type": "code",
   "execution_count": 9,
   "metadata": {},
   "outputs": [],
   "source": [
    "from sklearn.model_selection import train_test_split\n",
    "X_train, X_test, y_train, y_test = train_test_split(features, y, test_size = 0.2, random_state = 15)"
   ]
  },
  {
   "cell_type": "code",
   "execution_count": 10,
   "metadata": {},
   "outputs": [
    {
     "data": {
      "text/plain": [
       "GaussianNB(priors=None, var_smoothing=1e-09)"
      ]
     },
     "execution_count": 10,
     "metadata": {},
     "output_type": "execute_result"
    }
   ],
   "source": [
    "# Naive Bayes\n",
    "\n",
    "from sklearn.naive_bayes import GaussianNB\n",
    "classifier = GaussianNB()\n",
    "classifier.fit(X_train,y_train)"
   ]
  },
  {
   "cell_type": "code",
   "execution_count": 11,
   "metadata": {},
   "outputs": [],
   "source": [
    "y_pred = classifier.predict(X_test)"
   ]
  },
  {
   "cell_type": "code",
   "execution_count": 12,
   "metadata": {},
   "outputs": [
    {
     "name": "stdout",
     "output_type": "stream",
     "text": [
      "[[  0   0 240   0   0]\n",
      " [  0  11 318   1   0]\n",
      " [  0   9 925   6   0]\n",
      " [  0   6 226   0   0]\n",
      " [  0   4 323   2   0]]\n"
     ]
    }
   ],
   "source": [
    "from sklearn.metrics import confusion_matrix\n",
    "cm = confusion_matrix(y_test, y_pred)\n",
    "print(cm)"
   ]
  },
  {
   "cell_type": "code",
   "execution_count": 13,
   "metadata": {},
   "outputs": [
    {
     "name": "stdout",
     "output_type": "stream",
     "text": [
      "Accuracy: 0.4519555770159343\n"
     ]
    }
   ],
   "source": [
    "from sklearn import metrics\n",
    "\n",
    "# Model Accuracy, how often is the classifier correct?\n",
    "print(\"Accuracy:\",metrics.accuracy_score(y_test, y_pred))"
   ]
  },
  {
   "cell_type": "code",
   "execution_count": 23,
   "metadata": {},
   "outputs": [],
   "source": [
    "from sklearn.preprocessing import StandardScaler, LabelEncoder\n",
    "sc = StandardScaler()\n",
    "X_train = sc.fit_transform(X_train)\n",
    "X_test = sc.transform(X_test)"
   ]
  },
  {
   "cell_type": "code",
   "execution_count": 24,
   "metadata": {},
   "outputs": [
    {
     "name": "stdout",
     "output_type": "stream",
     "text": [
      "[[  0   0 240   0   0]\n",
      " [  0   0 330   0   0]\n",
      " [  0   0 940   0   0]\n",
      " [  0   0 232   0   0]\n",
      " [  0   0 329   0   0]]\n",
      "Accuracy: 0.45388701110574603\n"
     ]
    }
   ],
   "source": [
    "# SVM\n",
    "\n",
    "from sklearn.svm import SVC\n",
    "classifier = SVC(kernel = 'linear', random_state = 42)\n",
    "classifier.fit(X_train,y_train)\n",
    "\n",
    "y_pred = classifier.predict(X_test)\n",
    "\n",
    "from sklearn.metrics import confusion_matrix\n",
    "cm = confusion_matrix(y_test, y_pred)\n",
    "print(cm)\n",
    "\n",
    "from sklearn import metrics\n",
    "\n",
    "# Model Accuracy, how often is the classifier correct?\n",
    "print(\"Accuracy:\",metrics.accuracy_score(y_test, y_pred))"
   ]
  },
  {
   "cell_type": "code",
   "execution_count": 16,
   "metadata": {},
   "outputs": [
    {
     "name": "stdout",
     "output_type": "stream",
     "text": [
      "[[ 29  31 142  14  24]\n",
      " [ 34  57 196  14  29]\n",
      " [ 93 124 584  50  89]\n",
      " [ 26  37 124  23  22]\n",
      " [ 36  48 199  23  23]]\n",
      "Accuracy: 0.34572670207629164\n"
     ]
    }
   ],
   "source": [
    "# K-Nearest Neighbors\n",
    "\n",
    "from sklearn.neighbors import KNeighborsClassifier\n",
    "classifier = KNeighborsClassifier(n_neighbors = 5, metric = 'minkowski', p = 2)\n",
    "classifier.fit(X_train,y_train)\n",
    "\n",
    "y_pred = classifier.predict(X_test)\n",
    "\n",
    "from sklearn.metrics import confusion_matrix\n",
    "cm = confusion_matrix(y_test, y_pred)\n",
    "print(cm)\n",
    "\n",
    "from sklearn import metrics\n",
    "\n",
    "# Model Accuracy, how often is the classifier correct?\n",
    "print(\"Accuracy:\",metrics.accuracy_score(y_test, y_pred))"
   ]
  },
  {
   "cell_type": "code",
   "execution_count": 17,
   "metadata": {},
   "outputs": [
    {
     "name": "stdout",
     "output_type": "stream",
     "text": [
      "[[ 27  41 106  26  40]\n",
      " [ 44  49 155  35  47]\n",
      " [103 136 423 112 166]\n",
      " [ 24  39  99  35  35]\n",
      " [ 42  48 145  40  54]]\n",
      "Accuracy: 0.2839208112023177\n"
     ]
    }
   ],
   "source": [
    "# Random Forest\n",
    "\n",
    "from sklearn.ensemble import RandomForestClassifier\n",
    "classifier = RandomForestClassifier(n_estimators = 10, criterion = 'entropy', random_state = 0)\n",
    "classifier.fit(X_train,y_train)\n",
    "\n",
    "y_pred = classifier.predict(X_test)\n",
    "\n",
    "from sklearn.metrics import confusion_matrix\n",
    "cm = confusion_matrix(y_test, y_pred)\n",
    "print(cm)\n",
    "\n",
    "from sklearn import metrics\n",
    "\n",
    "# Model Accuracy, how often is the classifier correct?\n",
    "print(\"Accuracy:\",metrics.accuracy_score(y_test, y_pred))"
   ]
  },
  {
   "cell_type": "code",
   "execution_count": 18,
   "metadata": {},
   "outputs": [
    {
     "name": "stdout",
     "output_type": "stream",
     "text": [
      "[[  0   0 238   0   2]\n",
      " [  0   0 327   1   2]\n",
      " [  0   0 928   2  10]\n",
      " [  0   0 228   0   4]\n",
      " [  0   0 323   1   5]]\n",
      "Accuracy: 0.4505070014485756\n"
     ]
    }
   ],
   "source": [
    "# NN\n",
    "\n",
    "from sklearn.neural_network import MLPClassifier\n",
    "\n",
    "clf = MLPClassifier(solver='lbfgs', alpha=1e-5, hidden_layer_sizes=(15,), random_state=1)\n",
    "clf.fit(X_train, y_train)\n",
    "\n",
    "y_pred = clf.predict(X_test)\n",
    "\n",
    "from sklearn.metrics import confusion_matrix\n",
    "cm = confusion_matrix(y_test, y_pred)\n",
    "print(cm)\n",
    "\n",
    "from sklearn import metrics\n",
    "\n",
    "# Model Accuracy, how often is the classifier correct?\n",
    "print(\"Accuracy:\",metrics.accuracy_score(y_test, y_pred))"
   ]
  },
  {
   "cell_type": "code",
   "execution_count": 19,
   "metadata": {},
   "outputs": [
    {
     "name": "stdout",
     "output_type": "stream",
     "text": [
      "Accuracy: 0.4519555770159343\n"
     ]
    },
    {
     "name": "stderr",
     "output_type": "stream",
     "text": [
      "/Library/Frameworks/Python.framework/Versions/3.7/lib/python3.7/site-packages/sklearn/linear_model/logistic.py:432: FutureWarning: Default solver will be changed to 'lbfgs' in 0.22. Specify a solver to silence this warning.\n",
      "  FutureWarning)\n",
      "/Library/Frameworks/Python.framework/Versions/3.7/lib/python3.7/site-packages/sklearn/linear_model/logistic.py:469: FutureWarning: Default multi_class will be changed to 'auto' in 0.22. Specify the multi_class option to silence this warning.\n",
      "  \"this warning.\", FutureWarning)\n"
     ]
    }
   ],
   "source": [
    "#Logistic Regression\n",
    "\n",
    "from sklearn.linear_model import LogisticRegression\n",
    "\n",
    "classifier = LogisticRegression()\n",
    "classifier.fit(X_train, y_train)\n",
    "score = classifier.score(X_test, y_test)\n",
    "\n",
    "print(\"Accuracy:\", score)"
   ]
  },
  {
   "cell_type": "code",
   "execution_count": 20,
   "metadata": {},
   "outputs": [
    {
     "name": "stderr",
     "output_type": "stream",
     "text": [
      "Using TensorFlow backend.\n"
     ]
    },
    {
     "name": "stdout",
     "output_type": "stream",
     "text": [
      "Epoch 1/20\n",
      "8282/8282 [==============================] - 0s 30us/step - loss: -8804.1575 - accuracy: 0.1502\n",
      "Epoch 2/20\n",
      "8282/8282 [==============================] - 0s 13us/step - loss: -62592.8853 - accuracy: 0.1502\n",
      "Epoch 3/20\n",
      "8282/8282 [==============================] - 0s 13us/step - loss: -245020.6853 - accuracy: 0.1502\n",
      "Epoch 4/20\n",
      "8282/8282 [==============================] - 0s 12us/step - loss: -689337.1908 - accuracy: 0.1502\n",
      "Epoch 5/20\n",
      "8282/8282 [==============================] - 0s 11us/step - loss: -1571446.6360 - accuracy: 0.1502\n",
      "Epoch 6/20\n",
      "8282/8282 [==============================] - 0s 12us/step - loss: -3066220.3778 - accuracy: 0.1502\n",
      "Epoch 7/20\n",
      "8282/8282 [==============================] - 0s 12us/step - loss: -5412076.3200 - accuracy: 0.1502\n",
      "Epoch 8/20\n",
      "8282/8282 [==============================] - 0s 11us/step - loss: -8782652.3330 - accuracy: 0.1502\n",
      "Epoch 9/20\n",
      "8282/8282 [==============================] - 0s 11us/step - loss: -13393881.5112 - accuracy: 0.1502\n",
      "Epoch 10/20\n",
      "8282/8282 [==============================] - 0s 11us/step - loss: -19416149.2185 - accuracy: 0.1502\n",
      "Epoch 11/20\n",
      "8282/8282 [==============================] - 0s 12us/step - loss: -27087302.3178 - accuracy: 0.1502\n",
      "Epoch 12/20\n",
      "8282/8282 [==============================] - 0s 12us/step - loss: -36423985.9309 - accuracy: 0.1502\n",
      "Epoch 13/20\n",
      "8282/8282 [==============================] - 0s 11us/step - loss: -47725392.9186 - accuracy: 0.1502\n",
      "Epoch 14/20\n",
      "8282/8282 [==============================] - 0s 11us/step - loss: -61066239.3393 - accuracy: 0.1502\n",
      "Epoch 15/20\n",
      "8282/8282 [==============================] - 0s 11us/step - loss: -76614781.3011 - accuracy: 0.1502\n",
      "Epoch 16/20\n",
      "8282/8282 [==============================] - 0s 12us/step - loss: -94550070.7230 - accuracy: 0.1502\n",
      "Epoch 17/20\n",
      "8282/8282 [==============================] - 0s 11us/step - loss: -114937367.0823 - accuracy: 0.1502\n",
      "Epoch 18/20\n",
      "8282/8282 [==============================] - 0s 11us/step - loss: -137912642.3956 - accuracy: 0.1502\n",
      "Epoch 19/20\n",
      "8282/8282 [==============================] - 0s 11us/step - loss: -163762500.8143 - accuracy: 0.1502\n",
      "Epoch 20/20\n",
      "8282/8282 [==============================] - 0s 12us/step - loss: -192137682.3724 - accuracy: 0.1502\n",
      "2071/2071 [==============================] - 0s 28us/step\n",
      "test_acc:  0.15934331715106964\n"
     ]
    }
   ],
   "source": [
    "# # NN?\n",
    "\n",
    "# from keras.models import Sequential\n",
    "# from keras import layers\n",
    "\n",
    "# input_dim = X_train.shape[1]  # Number of features\n",
    "\n",
    "# model = Sequential()\n",
    "# model.add(layers.Dense(512, input_dim=input_dim, activation='relu'))\n",
    "\n",
    "# model.add(layers.Dense(256, activation='relu'))\n",
    "# model.add(layers.Dense(1, activation='sigmoid'))\n",
    "\n",
    "# model.compile(loss='binary_crossentropy', optimizer='adam', metrics=['accuracy'])\n",
    "\n",
    "# encoder = LabelEncoder()\n",
    "\n",
    "# # y_train = encoder.fit_transform(y_train)\n",
    "# # y_test = encoder.fit_transform(y_test)\n",
    "# y_enc = encoder.fit_transform(y)\n",
    "\n",
    "# X_train, X_test, y_train, y_test = train_test_split(features, y_enc, test_size = 0.2, random_state = 15)\n",
    "\n",
    "# history = model.fit(X_train, y_train, epochs=20, batch_size=256)\n",
    "\n",
    "# # loss, accuracy = model.evaluate(X_train, y_train, verbose=False)\n",
    "# # print(\"Training Accuracy: {:.4f}\".format(accuracy))\n",
    "# # loss, accuracy = model.evaluate(X_test, y_test, verbose=False)\n",
    "# # print(\"Testing Accuracy:  {:.4f}\".format(accuracy))\n",
    "\n",
    "# # calculate accuracy\n",
    "# test_loss, test_acc = model.evaluate(X_test,y_test)\n",
    "# print('test_acc: ',test_acc)"
   ]
  },
  {
   "cell_type": "code",
   "execution_count": 29,
   "metadata": {},
   "outputs": [
    {
     "name": "stdout",
     "output_type": "stream",
     "text": [
      "Epoch 1/20\n",
      "8282/8282 [==============================] - 0s 36us/step - loss: 1.5763 - accuracy: 0.4131\n",
      "Epoch 2/20\n",
      "8282/8282 [==============================] - 0s 19us/step - loss: 1.4469 - accuracy: 0.4466\n",
      "Epoch 3/20\n",
      "8282/8282 [==============================] - 0s 19us/step - loss: 1.4423 - accuracy: 0.4474\n",
      "Epoch 4/20\n",
      "8282/8282 [==============================] - 0s 18us/step - loss: 1.4402 - accuracy: 0.4463\n",
      "Epoch 5/20\n",
      "8282/8282 [==============================] - 0s 18us/step - loss: 1.4392 - accuracy: 0.4472\n",
      "Epoch 6/20\n",
      "8282/8282 [==============================] - 0s 20us/step - loss: 1.4386 - accuracy: 0.4475\n",
      "Epoch 7/20\n",
      "8282/8282 [==============================] - 0s 19us/step - loss: 1.4382 - accuracy: 0.4469\n",
      "Epoch 8/20\n",
      "8282/8282 [==============================] - 0s 19us/step - loss: 1.4401 - accuracy: 0.4460\n",
      "Epoch 9/20\n",
      "8282/8282 [==============================] - 0s 19us/step - loss: 1.4395 - accuracy: 0.4476\n",
      "Epoch 10/20\n",
      "8282/8282 [==============================] - 0s 20us/step - loss: 1.4362 - accuracy: 0.4472\n",
      "Epoch 11/20\n",
      "8282/8282 [==============================] - 0s 19us/step - loss: 1.4360 - accuracy: 0.4472\n",
      "Epoch 12/20\n",
      "8282/8282 [==============================] - 0s 18us/step - loss: 1.4359 - accuracy: 0.4474\n",
      "Epoch 13/20\n",
      "8282/8282 [==============================] - 0s 18us/step - loss: 1.4357 - accuracy: 0.4474\n",
      "Epoch 14/20\n",
      "8282/8282 [==============================] - 0s 18us/step - loss: 1.4345 - accuracy: 0.4472\n",
      "Epoch 15/20\n",
      "8282/8282 [==============================] - 0s 20us/step - loss: 1.4352 - accuracy: 0.4472\n",
      "Epoch 16/20\n",
      "8282/8282 [==============================] - 0s 19us/step - loss: 1.4354 - accuracy: 0.4471\n",
      "Epoch 17/20\n",
      "8282/8282 [==============================] - 0s 19us/step - loss: 1.4353 - accuracy: 0.4477\n",
      "Epoch 18/20\n",
      "8282/8282 [==============================] - 0s 19us/step - loss: 1.4361 - accuracy: 0.4471\n",
      "Epoch 19/20\n",
      "8282/8282 [==============================] - 0s 19us/step - loss: 1.4347 - accuracy: 0.4471\n",
      "Epoch 20/20\n",
      "8282/8282 [==============================] - 0s 19us/step - loss: 1.4345 - accuracy: 0.4469\n",
      "2071/2071 [==============================] - 0s 25us/step\n",
      "test_acc:  0.453887015581131\n"
     ]
    }
   ],
   "source": [
    "model = Sequential()\n",
    "model.add(layers.Dense(256, activation='relu', input_shape=(X_train.shape[1],)))\n",
    "\n",
    "model.add(layers.Dense(128, activation='relu'))\n",
    "\n",
    "model.add(layers.Dense(64, activation='sigmoid'))\n",
    "\n",
    "model.add(layers.Dense(10, activation='softmax'))\n",
    "\n",
    "model.compile(optimizer='adam',loss='sparse_categorical_crossentropy',metrics=['accuracy'])\n",
    "              \n",
    "history = model.fit(X_train,y_train,epochs=20,batch_size=64)\n",
    "\n",
    "# calculate accuracy\n",
    "test_loss, test_acc = model.evaluate(X_test,y_test)\n",
    "print('test_acc: ',test_acc)"
   ]
  }
 ],
 "metadata": {
  "kernelspec": {
   "display_name": "Python 3",
   "language": "python",
   "name": "python3"
  },
  "language_info": {
   "codemirror_mode": {
    "name": "ipython",
    "version": 3
   },
   "file_extension": ".py",
   "mimetype": "text/x-python",
   "name": "python",
   "nbconvert_exporter": "python",
   "pygments_lexer": "ipython3",
   "version": "3.7.4"
  }
 },
 "nbformat": 4,
 "nbformat_minor": 4
}
